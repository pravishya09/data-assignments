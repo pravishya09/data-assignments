{
 "cells": [
  {
   "cell_type": "markdown",
   "id": "65c145de-6777-462e-995a-d22bbe3bd5b7",
   "metadata": {},
   "source": [
    "UNIT- FUNCTIONS & ERROR HANDLING"
   ]
  },
  {
   "cell_type": "markdown",
   "id": "6285ef7a-74dd-4e5d-ad22-4a88f7321a94",
   "metadata": {},
   "source": [
    "WRITE A PYTHON FUNCTION TO CHECK WHETHER A NUMBER IS PRIME OR NOT.\n",
    "SAMPLE INPUT:ENTER THE NUMBER\n",
    "SAMPLE OUTPUT : 3 IS A PRIME NUR"
   ]
  },
  {
   "cell_type": "code",
   "execution_count": 25,
   "id": "6889d3c8-4b9c-4708-ab2d-8a2caf38978d",
   "metadata": {},
   "outputs": [
    {
     "name": "stdout",
     "output_type": "stream",
     "text": [
      "5 is  a prime number\n"
     ]
    }
   ],
   "source": [
    "a=5\n",
    "def prime(i):\n",
    "    if i%2==0 and i//i==1:\n",
    "         print(i,'is not a prime number')\n",
    "    else:\n",
    "       print(i,'is  a prime number')\n",
    "prime(a)\n",
    "        "
   ]
  },
  {
   "cell_type": "code",
   "execution_count": 27,
   "id": "93251da1-3265-48d7-b4d9-4a93decc2dc2",
   "metadata": {},
   "outputs": [
    {
     "name": "stdout",
     "output_type": "stream",
     "text": [
      "8 is not a prime number\n"
     ]
    }
   ],
   "source": [
    "prime(8)"
   ]
  },
  {
   "cell_type": "code",
   "execution_count": 29,
   "id": "9761e270-24ee-4e95-b892-fc6c11b66122",
   "metadata": {},
   "outputs": [
    {
     "name": "stdout",
     "output_type": "stream",
     "text": [
      "2 is not a prime number\n"
     ]
    }
   ],
   "source": [
    "prime(2)"
   ]
  },
  {
   "cell_type": "code",
   "execution_count": 33,
   "id": "385083d6-8110-4af3-930d-7be65172db10",
   "metadata": {},
   "outputs": [
    {
     "name": "stdout",
     "output_type": "stream",
     "text": [
      "3 is  a prime number\n"
     ]
    }
   ],
   "source": [
    "prime(3)"
   ]
  },
  {
   "cell_type": "code",
   "execution_count": null,
   "id": "ab0fb002-e1e4-45a6-aa5c-95e841c7df6e",
   "metadata": {},
   "outputs": [],
   "source": []
  },
  {
   "cell_type": "markdown",
   "id": "ca117921-0d7c-45e4-9b3a-1e51db307296",
   "metadata": {},
   "source": [
    "WRITE A PYTHON FUNCTION TO CALCULATE THE FACTORIAL OF A NUMBER (A NON NEGATIVE INTEGER)\n",
    "SAMPLE INPUT :3\n",
    "SAMPLE OUTPUT : 6"
   ]
  },
  {
   "cell_type": "code",
   "execution_count": 77,
   "id": "1867d074-a97a-4db7-bfda-7a2191a53881",
   "metadata": {},
   "outputs": [
    {
     "data": {
      "text/plain": [
       "30"
      ]
     },
     "execution_count": 77,
     "metadata": {},
     "output_type": "execute_result"
    }
   ],
   "source": [
    "def factorial(a):\n",
    "    if a==0:\n",
    "        print('enter a valid number')\n",
    "    else:\n",
    "     return a*(a-1)\n",
    "       \n",
    "factorial(6)\n",
    "      \n",
    "      "
   ]
  },
  {
   "cell_type": "code",
   "execution_count": 79,
   "id": "8a64a787-44ea-4092-805f-baf545b8f202",
   "metadata": {},
   "outputs": [
    {
     "data": {
      "text/plain": [
       "6"
      ]
     },
     "execution_count": 79,
     "metadata": {},
     "output_type": "execute_result"
    }
   ],
   "source": [
    "factorial(3)"
   ]
  },
  {
   "cell_type": "code",
   "execution_count": null,
   "id": "11a8fe05-4571-48a7-954f-751e11bd764f",
   "metadata": {},
   "outputs": [],
   "source": []
  }
 ],
 "metadata": {
  "kernelspec": {
   "display_name": "Python 3 (ipykernel)",
   "language": "python",
   "name": "python3"
  },
  "language_info": {
   "codemirror_mode": {
    "name": "ipython",
    "version": 3
   },
   "file_extension": ".py",
   "mimetype": "text/x-python",
   "name": "python",
   "nbconvert_exporter": "python",
   "pygments_lexer": "ipython3",
   "version": "3.12.4"
  }
 },
 "nbformat": 4,
 "nbformat_minor": 5
}
