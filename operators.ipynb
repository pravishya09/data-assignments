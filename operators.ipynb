{
 "cells": [
  {
   "cell_type": "markdown",
   "id": "e2709879-9999-402f-a175-b7177a876b90",
   "metadata": {},
   "source": [
    "OPERATORS"
   ]
  },
  {
   "cell_type": "code",
   "execution_count": 2,
   "id": "e82f2241-ae80-437c-8cd8-d0b65df15939",
   "metadata": {},
   "outputs": [
    {
     "data": {
      "text/plain": [
       "8"
      ]
     },
     "execution_count": 2,
     "metadata": {},
     "output_type": "execute_result"
    }
   ],
   "source": [
    "5+3"
   ]
  },
  {
   "cell_type": "code",
   "execution_count": 3,
   "id": "49fb0162-44a4-4bb8-b959-0ff4a681036c",
   "metadata": {},
   "outputs": [
    {
     "data": {
      "text/plain": [
       "3"
      ]
     },
     "execution_count": 3,
     "metadata": {},
     "output_type": "execute_result"
    }
   ],
   "source": [
    "5-2"
   ]
  },
  {
   "cell_type": "code",
   "execution_count": 4,
   "id": "24659d2a-1d86-4c30-bf5b-11a8db19dcaf",
   "metadata": {},
   "outputs": [
    {
     "data": {
      "text/plain": [
       "25"
      ]
     },
     "execution_count": 4,
     "metadata": {},
     "output_type": "execute_result"
    }
   ],
   "source": [
    "5*5"
   ]
  },
  {
   "cell_type": "code",
   "execution_count": 5,
   "id": "09a30b77-d2de-4105-b9f8-d5672248e3df",
   "metadata": {},
   "outputs": [
    {
     "data": {
      "text/plain": [
       "1.6666666666666667"
      ]
     },
     "execution_count": 5,
     "metadata": {},
     "output_type": "execute_result"
    }
   ],
   "source": [
    "5/3"
   ]
  },
  {
   "cell_type": "code",
   "execution_count": 6,
   "id": "66988dc0-51a8-4b12-8279-7fd15033256f",
   "metadata": {},
   "outputs": [
    {
     "data": {
      "text/plain": [
       "1"
      ]
     },
     "execution_count": 6,
     "metadata": {},
     "output_type": "execute_result"
    }
   ],
   "source": [
    "5//3"
   ]
  },
  {
   "cell_type": "code",
   "execution_count": 7,
   "id": "530d36b8-6adf-4070-9a78-e3a5ec16b7ac",
   "metadata": {},
   "outputs": [
    {
     "data": {
      "text/plain": [
       "2"
      ]
     },
     "execution_count": 7,
     "metadata": {},
     "output_type": "execute_result"
    }
   ],
   "source": [
    "5%3"
   ]
  },
  {
   "cell_type": "code",
   "execution_count": 8,
   "id": "58c026dd-62a3-44c7-ba81-8950ea4ebc2f",
   "metadata": {},
   "outputs": [
    {
     "data": {
      "text/plain": [
       "8"
      ]
     },
     "execution_count": 8,
     "metadata": {},
     "output_type": "execute_result"
    }
   ],
   "source": [
    "2**3"
   ]
  },
  {
   "cell_type": "markdown",
   "id": "3b828b5d-e0b0-40ee-be08-eed4714e5de3",
   "metadata": {},
   "source": [
    "COMPARISON"
   ]
  },
  {
   "cell_type": "code",
   "execution_count": 10,
   "id": "cd56fec0-14b0-493f-9a87-3100908f9dbb",
   "metadata": {},
   "outputs": [],
   "source": [
    "a=5\n",
    "b=6\n",
    "c=3"
   ]
  },
  {
   "cell_type": "code",
   "execution_count": 11,
   "id": "63add1d8-db46-48bf-b761-e49ba17891a6",
   "metadata": {},
   "outputs": [
    {
     "name": "stdout",
     "output_type": "stream",
     "text": [
      "False\n"
     ]
    }
   ],
   "source": [
    "print(a==b)"
   ]
  },
  {
   "cell_type": "code",
   "execution_count": 12,
   "id": "5762578c-307b-49d5-a9fb-7e1101fa280f",
   "metadata": {},
   "outputs": [
    {
     "name": "stdout",
     "output_type": "stream",
     "text": [
      "True\n"
     ]
    }
   ],
   "source": [
    "print(a!=b)"
   ]
  },
  {
   "cell_type": "code",
   "execution_count": 13,
   "id": "331c898a-4c2a-4f27-8afe-ba811e030556",
   "metadata": {},
   "outputs": [
    {
     "name": "stdout",
     "output_type": "stream",
     "text": [
      "True\n"
     ]
    }
   ],
   "source": [
    "print(c<b)"
   ]
  },
  {
   "cell_type": "markdown",
   "id": "d9a7d7b1-36c0-4e5e-aabc-f2a0bd0e8986",
   "metadata": {},
   "source": [
    "IDENTITY"
   ]
  },
  {
   "cell_type": "code",
   "execution_count": 15,
   "id": "d5848e0f-3555-4f0c-a269-a7b4a8fbb647",
   "metadata": {},
   "outputs": [],
   "source": [
    "a=6\n",
    "b=6\n",
    "c=3"
   ]
  },
  {
   "cell_type": "code",
   "execution_count": 16,
   "id": "7ff6ff28-d187-4249-a790-70e7533d78fb",
   "metadata": {},
   "outputs": [
    {
     "name": "stdout",
     "output_type": "stream",
     "text": [
      "True\n"
     ]
    }
   ],
   "source": [
    "print(a is b)"
   ]
  },
  {
   "cell_type": "code",
   "execution_count": 17,
   "id": "e15a98cb-5408-456f-b8b0-d2df0ffc9b16",
   "metadata": {},
   "outputs": [
    {
     "name": "stdout",
     "output_type": "stream",
     "text": [
      "False\n"
     ]
    }
   ],
   "source": [
    "print( b is not a)"
   ]
  },
  {
   "cell_type": "code",
   "execution_count": 18,
   "id": "fed07d1e-2101-47da-919a-1413b2d0ec9c",
   "metadata": {},
   "outputs": [
    {
     "name": "stdout",
     "output_type": "stream",
     "text": [
      "True\n",
      "True\n"
     ]
    }
   ],
   "source": [
    "print(a==b)\n",
    "print(a is b)"
   ]
  },
  {
   "cell_type": "code",
   "execution_count": 19,
   "id": "02951225-ba31-4c08-84a5-0b27d4d001e2",
   "metadata": {},
   "outputs": [],
   "source": [
    "list1=[1,2,3]\n",
    "list2=[1,2,3]"
   ]
  },
  {
   "cell_type": "code",
   "execution_count": 20,
   "id": "e4d2998e-0e0b-4324-b7ef-dc5edd20cfbb",
   "metadata": {},
   "outputs": [
    {
     "name": "stdout",
     "output_type": "stream",
     "text": [
      "True\n",
      "False\n"
     ]
    }
   ],
   "source": [
    "print(list1==list2)\n",
    "print(list1 is list2)"
   ]
  },
  {
   "cell_type": "markdown",
   "id": "585e3bfd-1e0e-4c2b-9bd4-aed7e3a180d7",
   "metadata": {},
   "source": [
    "MEMBERSHIP OPERATOR"
   ]
  },
  {
   "cell_type": "code",
   "execution_count": 22,
   "id": "9f051ac4-c7b2-4e37-9a79-a141f1f11261",
   "metadata": {},
   "outputs": [],
   "source": [
    "list1=[1,2,3,56,4,6,7,8]"
   ]
  },
  {
   "cell_type": "code",
   "execution_count": 23,
   "id": "d921cbd8-ce47-4c60-b164-409af86f0362",
   "metadata": {},
   "outputs": [
    {
     "name": "stdout",
     "output_type": "stream",
     "text": [
      "False\n"
     ]
    }
   ],
   "source": [
    "print(9 in list1)"
   ]
  },
  {
   "cell_type": "code",
   "execution_count": 24,
   "id": "acb3a467-0eea-41ca-b2da-c605319d1961",
   "metadata": {},
   "outputs": [
    {
     "name": "stdout",
     "output_type": "stream",
     "text": [
      "True\n"
     ]
    }
   ],
   "source": [
    "print(9 not in list1)"
   ]
  },
  {
   "cell_type": "markdown",
   "id": "a4658d88-280d-4d01-9db1-5bd6b370b0ba",
   "metadata": {},
   "source": [
    "LOGICAL OPERATORS"
   ]
  },
  {
   "cell_type": "code",
   "execution_count": 26,
   "id": "1a685c98-75f6-45ca-a5b8-26d3601142a3",
   "metadata": {},
   "outputs": [],
   "source": [
    "a=5\n",
    "b=6\n",
    "c=3"
   ]
  },
  {
   "cell_type": "code",
   "execution_count": 27,
   "id": "9acfb32a-8ca4-4284-8d58-0d96105d5fc0",
   "metadata": {},
   "outputs": [
    {
     "name": "stdout",
     "output_type": "stream",
     "text": [
      "False\n"
     ]
    }
   ],
   "source": [
    "print(a==b and b==c)"
   ]
  },
  {
   "cell_type": "code",
   "execution_count": 28,
   "id": "71834d5e-fb7c-4eac-bacd-ee0b1716af14",
   "metadata": {},
   "outputs": [
    {
     "name": "stdout",
     "output_type": "stream",
     "text": [
      "True\n"
     ]
    }
   ],
   "source": [
    "print(not(a==b and b==c))"
   ]
  },
  {
   "cell_type": "code",
   "execution_count": 29,
   "id": "bb48eb98-cbcd-4e16-a72d-b1d9bf9ddc38",
   "metadata": {},
   "outputs": [
    {
     "name": "stdout",
     "output_type": "stream",
     "text": [
      "True\n"
     ]
    }
   ],
   "source": [
    "print(a>b or b>c)"
   ]
  },
  {
   "cell_type": "code",
   "execution_count": 30,
   "id": "e722ca02-3479-4a1e-a965-5aca4aa828d4",
   "metadata": {},
   "outputs": [
    {
     "name": "stdout",
     "output_type": "stream",
     "text": [
      "False\n"
     ]
    }
   ],
   "source": [
    "print(not(a>b or c<b))"
   ]
  },
  {
   "cell_type": "markdown",
   "id": "2b7c1efc-1a2c-4748-89da-b26259723b7e",
   "metadata": {},
   "source": [
    "ASSIGNMENT OPERATORS"
   ]
  },
  {
   "cell_type": "code",
   "execution_count": 32,
   "id": "d2f8a085-cfc5-43ce-9407-dd951758a798",
   "metadata": {},
   "outputs": [],
   "source": [
    "a=10\n",
    "a+=10"
   ]
  },
  {
   "cell_type": "code",
   "execution_count": 33,
   "id": "13ec460b-fa70-4f68-b4ca-0e982e93dcef",
   "metadata": {},
   "outputs": [
    {
     "data": {
      "text/plain": [
       "20"
      ]
     },
     "execution_count": 33,
     "metadata": {},
     "output_type": "execute_result"
    }
   ],
   "source": [
    "a"
   ]
  },
  {
   "cell_type": "markdown",
   "id": "f6a5078b-9bec-4839-9deb-a0dee630b61b",
   "metadata": {},
   "source": [
    "CONTROL STRUCTURES"
   ]
  },
  {
   "cell_type": "markdown",
   "id": "1a2999a4-4041-4578-a10a-82666f28cdf8",
   "metadata": {},
   "source": [
    "SEQUENTIAL FLOW"
   ]
  },
  {
   "cell_type": "code",
   "execution_count": 36,
   "id": "4add657c-b78c-4859-8623-ebc00c95f3e3",
   "metadata": {},
   "outputs": [],
   "source": [
    "a=5\n",
    "b=6\n",
    "c=a+b"
   ]
  },
  {
   "cell_type": "code",
   "execution_count": 37,
   "id": "3e020f25-2931-42cd-bf3f-70d196c3bc2c",
   "metadata": {},
   "outputs": [
    {
     "data": {
      "text/plain": [
       "11"
      ]
     },
     "execution_count": 37,
     "metadata": {},
     "output_type": "execute_result"
    }
   ],
   "source": [
    "c"
   ]
  },
  {
   "cell_type": "markdown",
   "id": "3981e4cc-5a2e-4c37-9b3f-3dec710f95d0",
   "metadata": {},
   "source": [
    "CONDITIONAL FLOW"
   ]
  },
  {
   "cell_type": "markdown",
   "id": "a843d361-00f5-4664-91cf-fd1644f422ad",
   "metadata": {},
   "source": [
    "SELECTION LOGIC"
   ]
  },
  {
   "cell_type": "markdown",
   "id": "3aa8ecb6-7eb0-4205-8362-f4103c9a5e6b",
   "metadata": {},
   "source": [
    "IF"
   ]
  },
  {
   "cell_type": "code",
   "execution_count": 41,
   "id": "0f6c44f0-95f9-44b4-9257-9e6e9eaafbb0",
   "metadata": {},
   "outputs": [],
   "source": [
    "a=5\n",
    "b=6\n",
    "if a>b:\n",
    "    print(a,'is greater than',b)"
   ]
  },
  {
   "cell_type": "code",
   "execution_count": 42,
   "id": "07e98dc6-9f2d-425b-a39d-29763a6891df",
   "metadata": {},
   "outputs": [
    {
     "name": "stdout",
     "output_type": "stream",
     "text": [
      "6 is greater than 5\n"
     ]
    }
   ],
   "source": [
    "a=5\n",
    "b=6\n",
    "if a>b:\n",
    "    print(a,'is greater than',b)\n",
    "else :\n",
    "    print(b,'is greater than',a)"
   ]
  },
  {
   "cell_type": "code",
   "execution_count": 43,
   "id": "a1c01b67-50a5-49fc-a172-b07c62eefd28",
   "metadata": {},
   "outputs": [
    {
     "name": "stdout",
     "output_type": "stream",
     "text": [
      "6 is greater than 5\n"
     ]
    }
   ],
   "source": [
    "a=5\n",
    "b=6\n",
    "if a>b:\n",
    "    print(a,'is greater than',b)\n",
    "else :\n",
    "    print(b,'is greater than',a)"
   ]
  },
  {
   "cell_type": "code",
   "execution_count": 44,
   "id": "bd47c6ee-f069-4327-a020-d9fa0b77f329",
   "metadata": {},
   "outputs": [
    {
     "name": "stdout",
     "output_type": "stream",
     "text": [
      "5 is equal to 5\n"
     ]
    }
   ],
   "source": [
    "a=5\n",
    "b=5\n",
    "if a>b:\n",
    "    print(a,'is greater than',b)\n",
    "elif  a<b :\n",
    "    print(b,'is greater than',a)\n",
    "else :\n",
    "    print(a,'is equal to',b)"
   ]
  },
  {
   "cell_type": "markdown",
   "id": "831a6f39-0b7f-47a2-a780-84ca916c07e4",
   "metadata": {},
   "source": [
    "nested if"
   ]
  },
  {
   "cell_type": "code",
   "execution_count": 46,
   "id": "1b5ff5bc-6e9d-41c4-b3e5-f509258e03f4",
   "metadata": {},
   "outputs": [
    {
     "data": {
      "text/plain": [
       "5.0"
      ]
     },
     "execution_count": 46,
     "metadata": {},
     "output_type": "execute_result"
    }
   ],
   "source": [
    "a=10\n",
    "b=2\n",
    "if b<a:\n",
    "    if b!=0:\n",
    "        c=a/2\n",
    "c"
   ]
  },
  {
   "cell_type": "markdown",
   "id": "13978983-7755-4018-8e6a-91f8c884cfcd",
   "metadata": {},
   "source": [
    "ITERATION LOGIC "
   ]
  },
  {
   "cell_type": "markdown",
   "id": "f1f42813-6967-4b6e-bc1d-12ce322612c0",
   "metadata": {},
   "source": [
    "REPETITIVE FLOW"
   ]
  },
  {
   "cell_type": "markdown",
   "id": "780a2f31-eb06-4034-a833-e97fd3298b8b",
   "metadata": {},
   "source": [
    "FOR LOOP"
   ]
  },
  {
   "cell_type": "code",
   "execution_count": 85,
   "id": "732dcccd-ff64-4d35-87f8-225f8b3ee983",
   "metadata": {},
   "outputs": [
    {
     "name": "stdout",
     "output_type": "stream",
     "text": [
      "it is a number\n",
      "it is a number\n",
      "it is a number\n",
      "it is a number\n",
      "it is a number\n",
      "it is a number\n",
      "it is a number\n",
      "it is a number\n",
      "it is a number\n"
     ]
    }
   ],
   "source": [
    "list1=[1,2,3,4,5,6,7,8,9]\n",
    "for i in list1:\n",
    "    print('it is a number')"
   ]
  },
  {
   "cell_type": "code",
   "execution_count": 50,
   "id": "59e3f165-7e16-4ac2-b7fc-c40ed7ef65ab",
   "metadata": {},
   "outputs": [
    {
     "name": "stdout",
     "output_type": "stream",
     "text": [
      "1 *\n",
      "2 *\n",
      "3 *\n",
      "4 *\n",
      "5 *\n",
      "6 *\n",
      "7 *\n",
      "8 *\n",
      "9 *\n"
     ]
    }
   ],
   "source": [
    "list1=[1,2,3,4,5,6,7,8,9]\n",
    "for i in list1:\n",
    "    print(i,'*')\n",
    "    "
   ]
  },
  {
   "cell_type": "code",
   "execution_count": 82,
   "id": "f77687c8-ca98-44f0-b92b-74be850b9819",
   "metadata": {},
   "outputs": [
    {
     "name": "stdout",
     "output_type": "stream",
     "text": [
      "*\n",
      "**\n",
      "***\n",
      "****\n"
     ]
    }
   ],
   "source": [
    "for i in range(1,2):\n",
    "    print('*')\n",
    "    for i in range(1,2):\n",
    "        print('**')\n",
    "        for i in range(1,2):\n",
    "            print('***')\n",
    "            for i in range(1,2):\n",
    "                print('****')\n",
    "    "
   ]
  },
  {
   "cell_type": "code",
   "execution_count": null,
   "id": "7ee535f5-da4d-4f40-b2e2-3b6decd7b152",
   "metadata": {},
   "outputs": [],
   "source": []
  },
  {
   "cell_type": "code",
   "execution_count": 86,
   "id": "f0c3d883-4aaa-4b4e-b9ac-1f2c6a5af331",
   "metadata": {},
   "outputs": [
    {
     "name": "stdout",
     "output_type": "stream",
     "text": [
      "*\n",
      "**\n",
      "***\n",
      "****\n"
     ]
    }
   ],
   "source": [
    "for i in range(1,2):\n",
    "    print('*')\n",
    "    print('**')\n",
    "    print('***')\n",
    "    print('****')\n",
    "    "
   ]
  },
  {
   "cell_type": "code",
   "execution_count": 110,
   "id": "38270764-28c0-445a-a1c3-96bb01a6c80f",
   "metadata": {},
   "outputs": [
    {
     "name": "stdout",
     "output_type": "stream",
     "text": [
      "1 odd number\n",
      "2 even number\n",
      "3 odd number\n",
      "4 even number\n",
      "5 odd number\n",
      "6 even number\n",
      "7 odd number\n",
      "8 even number\n",
      "9 odd number\n",
      "10 even number\n",
      "11 odd number\n",
      "12 even number\n",
      "13 odd number\n",
      "14 even number\n",
      "15 odd number\n"
     ]
    }
   ],
   "source": [
    "\n",
    "for i in range(1,16):\n",
    "    if i%2==0:\n",
    "       print(i,'even number')\n",
    "    else:\n",
    "        print(i,'odd number')"
   ]
  },
  {
   "cell_type": "code",
   "execution_count": null,
   "id": "56ecc086-fcb4-4476-9338-d9a23aefafe7",
   "metadata": {},
   "outputs": [],
   "source": []
  },
  {
   "cell_type": "markdown",
   "id": "4b258908-eb36-42aa-b037-0aa36568874b",
   "metadata": {},
   "source": [
    "in range it is start stop step"
   ]
  },
  {
   "cell_type": "code",
   "execution_count": 94,
   "id": "e2d249cb-61df-49c1-b8c4-efc60baf3197",
   "metadata": {},
   "outputs": [
    {
     "name": "stdout",
     "output_type": "stream",
     "text": [
      "1 it is a number\n",
      "4 it is a number\n",
      "7 it is a number\n"
     ]
    }
   ],
   "source": [
    "for i in range(1,10,3):\n",
    "    print(i,'it is a number')"
   ]
  },
  {
   "cell_type": "markdown",
   "id": "a0045d0c-050b-4d02-b8d7-47833f8a5e72",
   "metadata": {},
   "source": [
    "while loop"
   ]
  },
  {
   "cell_type": "code",
   "execution_count": 107,
   "id": "bd41378c-c311-4ec8-a0ba-04a5ac333bd7",
   "metadata": {},
   "outputs": [
    {
     "name": "stdout",
     "output_type": "stream",
     "text": [
      "7 is a number\n",
      "6 is a number\n",
      "5 is a number\n",
      "4 is a number\n",
      "3 is a number\n"
     ]
    }
   ],
   "source": [
    "r=7\n",
    "while r>2:\n",
    "    print(r,'is a number')\n",
    "    r-=1"
   ]
  },
  {
   "cell_type": "markdown",
   "id": "1e533fa0-cf82-4e43-ba5d-078f04ac5cb2",
   "metadata": {},
   "source": [
    "nested loop"
   ]
  },
  {
   "cell_type": "code",
   "execution_count": 38,
   "id": "92df9bf8-5346-4807-81b2-e94c19c8b137",
   "metadata": {},
   "outputs": [
    {
     "name": "stdout",
     "output_type": "stream",
     "text": [
      "*\n",
      "*\n"
     ]
    }
   ],
   "source": [
    "x=(1,2)\n",
    "for i in x:\n",
    "    print('*')"
   ]
  },
  {
   "cell_type": "markdown",
   "id": "3ce11436-c780-4910-ae66-af66893e27d8",
   "metadata": {},
   "source": [
    "break"
   ]
  },
  {
   "cell_type": "code",
   "execution_count": 48,
   "id": "f5b3e597-97d7-45a0-9b3f-341dac967656",
   "metadata": {},
   "outputs": [
    {
     "name": "stdout",
     "output_type": "stream",
     "text": [
      "3\n",
      "4\n",
      "5\n",
      "6\n",
      "7\n",
      "8\n",
      "9\n"
     ]
    }
   ],
   "source": [
    "x=(1,2,3,4,5,6,7)\n",
    "for i in x:\n",
    "    print('*')\n",
    "    "
   ]
  },
  {
   "cell_type": "code",
   "execution_count": null,
   "id": "bf045acc-8bbc-4a84-af0f-8b0e9da3ce4d",
   "metadata": {},
   "outputs": [],
   "source": []
  },
  {
   "cell_type": "code",
   "execution_count": null,
   "id": "3f733c25-a5c2-4b62-b340-abd6a32b406e",
   "metadata": {},
   "outputs": [],
   "source": []
  },
  {
   "cell_type": "code",
   "execution_count": 115,
   "id": "eb365efb-9279-44b8-a9ad-8aee72a119f8",
   "metadata": {},
   "outputs": [
    {
     "name": "stdout",
     "output_type": "stream",
     "text": [
      "1 it is a number\n",
      "2 it is a number\n",
      "3 it is a number\n",
      "4 it is a number\n"
     ]
    }
   ],
   "source": [
    "list1=[1,2,3,4,5,6,7,8,9]\n",
    "for i in list1:\n",
    "    if i==5:\n",
    "        break\n",
    "    print(i,'it is a number')"
   ]
  },
  {
   "cell_type": "code",
   "execution_count": null,
   "id": "eca6b21f-4f10-4585-8642-68d3306072ea",
   "metadata": {},
   "outputs": [],
   "source": []
  },
  {
   "cell_type": "code",
   "execution_count": 119,
   "id": "b857db48-583b-4978-90e6-4dd0580638e3",
   "metadata": {},
   "outputs": [
    {
     "name": "stdout",
     "output_type": "stream",
     "text": [
      "1 it is a number\n",
      "2 it is a number\n",
      "3 it is a number\n",
      "4 it is a number\n",
      "6 it is a number\n",
      "7 it is a number\n",
      "8 it is a number\n",
      "9 it is a number\n"
     ]
    }
   ],
   "source": [
    "list1=[1,2,3,4,5,6,7,8,9]\n",
    "for i in list1:\n",
    "    if i==5:\n",
    "        continue\n",
    "    print(i,'it is a number')"
   ]
  },
  {
   "cell_type": "code",
   "execution_count": null,
   "id": "d6934502-32f5-4277-b712-f4d56a9e95d9",
   "metadata": {},
   "outputs": [],
   "source": []
  }
 ],
 "metadata": {
  "kernelspec": {
   "display_name": "Python 3 (ipykernel)",
   "language": "python",
   "name": "python3"
  },
  "language_info": {
   "codemirror_mode": {
    "name": "ipython",
    "version": 3
   },
   "file_extension": ".py",
   "mimetype": "text/x-python",
   "name": "python",
   "nbconvert_exporter": "python",
   "pygments_lexer": "ipython3",
   "version": "3.12.4"
  }
 },
 "nbformat": 4,
 "nbformat_minor": 5
}
